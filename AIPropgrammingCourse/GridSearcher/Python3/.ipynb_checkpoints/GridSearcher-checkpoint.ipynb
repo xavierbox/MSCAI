{
 "cells": [
  {
   "cell_type": "markdown",
   "metadata": {},
   "source": [
    "### Lets implement a basic tree data structure"
   ]
  },
  {
   "cell_type": "code",
   "execution_count": 62,
   "metadata": {},
   "outputs": [],
   "source": [
    "from typing import Dict, Tuple, Sequence, List "
   ]
  },
  {
   "cell_type": "markdown",
   "metadata": {},
   "source": [
    "##### data structures"
   ]
  },
  {
   "cell_type": "code",
   "execution_count": 224,
   "metadata": {},
   "outputs": [],
   "source": [
    "\n",
    "#only one parent \n",
    "class TreeNode: \n",
    "    \n",
    "    counter = 0; #for debugging purposes, not really needed\n",
    "    \n",
    "    def __init__( self, parent_node ):\n",
    "        self.parent = parent_node\n",
    "        self._id = TreeNode.counter \n",
    "        self.children = [] \n",
    "        TreeNode.counter = TreeNode.counter + 1\n",
    "        \n",
    "    def __str__(self):\n",
    "        id_parent = \" none \" if self.parent == None else str(self.parent.id); \n",
    "        return \"node id: \" + str( self.id ) + \". Parent id: \" + id_parent;  \n",
    "        \n",
    "    @property\n",
    "    def id(self):\n",
    "        return self._id\n",
    "\n",
    "    @id.setter\n",
    "    def id(self, value):\n",
    "        self._id = value\n",
    "        \n",
    "    def add_child( self, child ):\n",
    "        child.parent = self\n",
    "        self.children.append( child )\n",
    "    \n",
    "#same but it stores also some arbitrary data \n",
    "class TreeDataNode( TreeNode ): \n",
    "        \n",
    "       \n",
    "    def __init__( self,parent_node, data: None ):\n",
    "\n",
    "        super().__init__( parent_node )\n",
    "        self.data   = data;\n",
    "        \n",
    "    def add_child( child ):\n",
    "        child.parent = self\n",
    "        self.children.append( child )\n",
    "        return child\n",
    "    \n",
    "    def __str__(self):\n",
    "        return super().__str__() + \" data: \" + str(self.data)\n",
    "\n",
    "        \n",
    "class DataTree:\n",
    "      \n",
    "    def __init__(self, data = None):\n",
    "        self._head = TreeDataNode( None, data ) \n",
    "   \n",
    "    @property \n",
    "    def head(self):\n",
    "        return _head\n",
    "     \n",
    "\n",
    "    \n"
   ]
  },
  {
   "cell_type": "code",
   "execution_count": 304,
   "metadata": {},
   "outputs": [],
   "source": [
    "\n",
    "#only one connection between nodes (not the bridges problem yet) \n",
    "class GraphNode: \n",
    "    \n",
    "    counter = 0; #for debugging purposes, not really needed\n",
    "    \n",
    "    def __init__( self, connections = None, data = None  ):\n",
    "        self.connections = set ( connections ) if connections else set()\n",
    "        self._id = GraphNode.counter \n",
    "        self.data = data; \n",
    "        GraphNode.counter = GraphNode.counter + 1\n",
    "        \n",
    "    def __str__(self):\n",
    "        s1 =  \"Graph node id: \" + str( self.id ) + \" data: \" + str(self.data)# + \".\\nLinks: \" + str(self.connections);  \n",
    "        s2 =  \"\"#\"Connections: \" + str( [ {n.id,n.data} for n in self.connections] )\n",
    "        return s1 + \"\\n\" + s2 \n",
    "    \n",
    "    def __repr__(self):\n",
    "        s1 =  \"Graph node id: \" + str( self.id ) + \" data: \" + str(self.data)# + \".\\nLinks: \" + str(self.connections);  \n",
    "        s2 =  \"\"#\"Connections: \" + str( [ {n.id,n.data} for n in self.connections] )\n",
    "        return s1 + \"\\n\" + s2 \n",
    "    \n",
    "    def add_connection( self, node ):\n",
    "        self.connections.add ( node )\n",
    "        \n",
    "    @property\n",
    "    def id(self):\n",
    "        return self._id\n",
    "\n",
    "    @id.setter\n",
    "    def id(self, value):\n",
    "        self._id = value\n",
    "        \n",
    "    #def add_connection( self, graph_node ):\n",
    "    #    child.parent = self\n",
    "    #    self.children.append( child )\n",
    "\n",
    "class Graph: \n",
    "  \n",
    "    def __init__( self ):\n",
    "        self.nodes = []; #set(); \n",
    "        \n",
    "    def __len__( self ): \n",
    "        return len( self.nodes )\n",
    "    \n",
    "    def add_node( self, node ):\n",
    "        #self.nodes.add( node )\n",
    "        if node not in self.nodes: self.nodes.append( node )\n",
    "        \n",
    "    \n",
    "    def add_nodes( self, nodes ):\n",
    "        for node in nodes:\n",
    "            self.add_node( node )\n",
    "        \n",
    "    def add_connection( self, node1, node2 ):\n",
    "        node1.add_connection( node2 )\n",
    "        node2.add_connection( node1 )\n",
    "        \n",
    "    def create_periodic_rect_grid( self, hcols, vrows ):\n",
    "        cells = hcols * vrows;\n",
    "\n",
    "        items = []\n",
    "        for cy in range( vrows ):\n",
    "            for cx in range (hcols ):\n",
    "                cell = cx  + hcols * cy \n",
    "                #print(f\"cell {cell} = ({cx},{cy})\")\n",
    "\n",
    "                grid_node = GraphNode( connections = None, data = f\"cell:{cell}, indices:({cx},{cy})\")\n",
    "                items.append( grid_node )\n",
    "                #print(grid_node.data)\n",
    "\n",
    "        #ADD THE NODES\n",
    "        self.add_nodes( items )     \n",
    "        #print(f\"Created a graph with {len( g1 )} nodes \");\n",
    "\n",
    "        #now lets do the connections with periodic boundary conditions \n",
    "        offsetx = [1, 0,-1,  0]\n",
    "        offsety = [0, 1, 0, -1]\n",
    "        offset_cells = len( offsetx )\n",
    "        for cy in range( vrows ):\n",
    "            for cx in range ( hcols ):\n",
    "\n",
    "                cell1 = cx  + cy  * hcols\n",
    "                #print(\"doing cell1 \", cx, cy )\n",
    "                for offset in range( offset_cells):\n",
    "                    cx2 = cx + offsetx[ offset ]\n",
    "                    cy2 = cy + offsety[ offset ]\n",
    "\n",
    "\n",
    "                    #print(\"checking neighbour \", cx2, cy2 ) \n",
    "                    #periodic boundaries \n",
    "                    if cx2 >= hcols: cx2 = 0;\n",
    "                    if cx2 < 0 : cx2 = hcols -1;\n",
    "\n",
    "                    if cy2 >= vrows: cy2 = 0;\n",
    "                    if cy2 < 0: cy2 = vrows -1;\n",
    "\n",
    "                    #print(\"which becomes \", cx2, cy2 ) \n",
    "\n",
    "                    cell2 = cx2 + cy2 * hcols\n",
    "\n",
    "                    #NOW WE ADD THE CONNECTIONS\n",
    "                    node1 = items[ cell1 ]\n",
    "                    node2 = items[ cell2 ]\n",
    "                    self.add_connection( node1, node2 )\n",
    "                #print(\"--------------------\")\n",
    "\n",
    "        #debugging \n",
    "        #print(\"node 0 \", items[0], \"links\\n\",items[0].connections)         \n",
    "        #print(\"node 2 \", items[2], \"links\\n\",items[2].connections)         \n",
    "\n",
    "        return items \n",
    "\n",
    "    def depth_first_search_path( self, node1, node2, max_depth = 99999999 ):\n",
    "        \n",
    "        if node1 == node2:\n",
    "            return [node1, node2 ]\n",
    "        \n",
    "        if len(node1.connections)<1:\n",
    "            return []\n",
    "        \n",
    "        if len(node2.connections)<1:\n",
    "            return []\n",
    "    \n",
    "        frontier =  [node1]\n",
    "        explored = set();\n",
    "        path = []        \n",
    "        end_node = None  \n",
    "        retrace = {}\n",
    "        depth = { node1: 0 }\n",
    "        max_expanded_depth = 0 \n",
    "        keep_searching = True  \n",
    "        while keep_searching: \n",
    "         \n",
    "            n1 = frontier[ len(frontier)-1 ] #pull the last one added to the list \n",
    "            frontier.remove( n1 )\n",
    "            explored.add( n1 )\n",
    "            \n",
    "            connections = n1.connections\n",
    "            for node in connections:\n",
    "                \n",
    "                if node not in frontier and node not in explored:  \n",
    "                \n",
    "                    #new node at the end of the list. It will be the next one pulled out  \n",
    "                    frontier.append( node )              \n",
    "\n",
    "                    #this is jsut to keep track of the depth searched. \n",
    "                    depth[ node ] = depth[ n1 ] + 1 \n",
    "                    max_expanded_depth = max( max_expanded_depth, depth[ node ])\n",
    "                    retrace[node] = n1\n",
    "\n",
    "                    #if target is found, stop \n",
    "                    if node == node2:\n",
    "                        end_node = node\n",
    "                        break;\n",
    "                                       \n",
    "            continue_condition = len(frontier) > 0  and not end_node and max_expanded_depth <= max_depth\n",
    "            keep_searching = True if continue_condition else False;       \n",
    "        \n",
    "\n",
    "        if end_node: #there is a path, lets build it \n",
    "            path.append( end_node )\n",
    "            parent = retrace.get(end_node)         \n",
    "            while parent is not node1: \n",
    "                path.append( parent )\n",
    "                parent = retrace.get(parent)\n",
    "                \n",
    "            path.append( node1 )           \n",
    "            path.reverse();\n",
    "            \n",
    "        return path;\n",
    "        \n",
    "    def first_search_path( self, node1, node2, max_depth = 99999999, sort_function = None  ):\n",
    "        \n",
    "        def do_not_sort_connections( node1, node2, links ):\n",
    "            return links \n",
    "        \n",
    "        if sort_function == None:\n",
    "            sort_connections = do_not_sort_connections\n",
    "        else:\n",
    "            sort_connections = sort_function\n",
    "        \n",
    "        io = 0 \n",
    "        \n",
    "        if node1 == node2:\n",
    "            return [node1, node2 ]\n",
    "        \n",
    "        if len(node1.connections)<1:\n",
    "            return []\n",
    "        \n",
    "        if len(node2.connections)<1:\n",
    "            return []\n",
    "        \n",
    "        frontier =  [node1]\n",
    "        explored = set();\n",
    "        path = []        \n",
    "        end_node = None  \n",
    "        retrace = {}\n",
    "        depth = { node1: 0 }\n",
    " \n",
    "        keep_searching = True  \n",
    "        while keep_searching: \n",
    "         \n",
    "            n1 = frontier[ io ]\n",
    "            frontier.remove( n1 )\n",
    "            explored.add( n1 )\n",
    "            \n",
    "            connections = sort_connections( node1, node2, n1.connections )\n",
    "            \n",
    "            for node in connections:\n",
    "                if node not in frontier and node not in explored:  \n",
    "                    frontier.append( node )                   \n",
    "                    depth[ node ] = depth[ n1 ] + 1 \n",
    "                    retrace[node] = n1\n",
    "                    \n",
    "                    if node == node2:\n",
    "                        end_node = node\n",
    "                        keep_searching = False;\n",
    "                        break; \n",
    "                        \n",
    "            #print(\"Updated frontier nodes \", [x.data for x in frontier])\n",
    "            #print(\"retrace \",[x.data for x in retrace])\n",
    "            continue_condition = len(frontier) > 0  and not end_node and max([ v for k,v in depth.items() ]) < max_depth\n",
    "            keep_searching = True if continue_condition else False;\n",
    "                        \n",
    "        if end_node: #there is a path, lets build it \n",
    "            path.append( end_node )\n",
    "            #print(\"Appended \", end_node.data)\n",
    "            \n",
    "            parent = retrace.get(end_node)         \n",
    "            while parent is not node1: \n",
    "                end_node= parent \n",
    "                path.append( end_node )\n",
    "                parent = retrace.get(end_node)\n",
    "                \n",
    "            path.append( node1 )           \n",
    "            path.reverse();\n",
    "            \n",
    "        return path;\n",
    "    \n",
    "    \n",
    "\n",
    "class RectGrid( Graph ): \n",
    "\n",
    "    def __init__( self, hcols, vrows ):\n",
    "        super().__init__( );\n",
    "        self.nodes = [] ; \n",
    "        self.rows = vrows\n",
    "        self.cols = hcols \n",
    "        self.create_periodic_rect_grid( hcols, vrows )\n",
    "        \n",
    "    @property\n",
    "    def node_list(self):\n",
    "        return self.nodes\n",
    "    \n",
    "    def get_node_from_indices( self, hcol, vrow ):\n",
    "        cell =  hcol + vrow * self.cols\n",
    "        return self.nodes[ cell ]\n",
    "    \n",
    "    def get_node( self, index ):\n",
    "        vrow  =  int( 1.0*index/self.cols ) \n",
    "        hcol  =  index - vrow * self.cols\n",
    "        return self.get_node_from_indices( hcol, vrow )\n",
    "    \n",
    "  "
   ]
  },
  {
   "cell_type": "markdown",
   "metadata": {},
   "source": [
    "### Version 2, no memory allocated for connections"
   ]
  },
  {
   "cell_type": "code",
   "execution_count": null,
   "metadata": {},
   "outputs": [],
   "source": []
  },
  {
   "cell_type": "code",
   "execution_count": 47,
   "metadata": {},
   "outputs": [],
   "source": [
    "#only one parent \n",
    "class RectGridNode: \n",
    "    \n",
    "    counter = 0; #for debugging purposes, not really needed\n",
    "    \n",
    "    def __init__(self, loc, parent, direction, depth):\n",
    "        self._loc = loc\n",
    "        self._parent = parent \n",
    "        self._direction = direction\n",
    "        self._depth = depth \n",
    "        self._id = RectGridNode.counter \n",
    "\n",
    "    #for comparison        \n",
    "    def __eq__(self, other ):\n",
    "        return True if self.loc  == other.loc else False \n",
    "                \n",
    "    def __neq__(self, other ):\n",
    "        return True if self.loc  != other.loc else False \n",
    "                \n",
    "    #for debugging \n",
    "    def __str__(self):\n",
    "        return str(self.loc)\n",
    "\n",
    "    def __repr__(self):\n",
    "        return str(self.loc)\n",
    "    \n",
    "    def __str__(self):\n",
    "        loc_parent = \" none \" if self.parent == None else str(self.parent.loc); \n",
    "        return  \"Loc:\"+str( self.loc ) + \",Parent:\" + str(loc_parent) + \",Depth:\" + str(self.depth);  \n",
    "                \n",
    "    @property\n",
    "    def id(self):\n",
    "        return self._id\n",
    "\n",
    "    @id.setter\n",
    "    def id(self, value):\n",
    "        self._id = value\n",
    "\n",
    "    @property\n",
    "    def parent(self):\n",
    "        return self._parent\n",
    "    \n",
    "    @property\n",
    "    def direction(self):\n",
    "        return self._direction\n",
    "    \n",
    "    @property\n",
    "    def depth(self):\n",
    "        return self._depth\n",
    "    \n",
    "    @property\n",
    "    def loc(self):\n",
    "        return self._loc\n",
    "    \n",
    "    \n",
    "    \n",
    "#same but it stores also some arbitrary data \n",
    "class RectGridDataNode( RectGridNode ): \n",
    "        \n",
    "       \n",
    "    def __init__(self, loc, parent, direction, depth, data = None ):\n",
    "\n",
    "        super().__init__( loc, parent, direction, depth )\n",
    "        self._data   = data;\n",
    "        \n",
    "    @property\n",
    "    def data(self):\n",
    "        return self._data\n",
    "\n",
    "    @data.setter\n",
    "    def data(self, value):\n",
    "        self._data = value \n",
    "        \n",
    "    def __str__(self):\n",
    "        return super().__str__() + \", Data: \" + str(self.data)\n",
    "\n",
    "    \n",
    "class RectGrid: \n",
    "\n",
    "    def __init__( self, cols, rows, layers = 1,  offset = None, periodic = True ):\n",
    "        self._rows   = rows\n",
    "        self._cols   = cols \n",
    "        seld._layers = layers \n",
    "        self._periodic = periodic \n",
    "        self._offset   = None  \n",
    "        \n",
    "        \n",
    "    def __len__(self): \n",
    "        return self.size();\n",
    "        \n",
    "   \n",
    "    def __str__(self):\n",
    "        return \"Rect Grid\" + str(self.cols) + \" x \" + str(self.rows)\n",
    "\n",
    "    def __repr__(self):\n",
    "        return seld.__str__();\n",
    "    \n",
    "    @property\n",
    "    def size(self):\n",
    "        return (self.cols,self.rows)    \n",
    "    \n",
    "    @property\n",
    "    def cols(self):\n",
    "        return self._cols\n",
    "\n",
    "    @cols.setter\n",
    "    def cols(self, value):\n",
    "        self._cols = value\n",
    "        \n",
    "    @property\n",
    "    def rows(self):\n",
    "        return self._rows\n",
    "\n",
    "    @rows.setter\n",
    "    def rows(self, value):\n",
    "        self._rows = value      \n",
    "        \n",
    "        \n",
    "class DataRectGrid(RectGrid): \n",
    "\n",
    "    def __init__( self, cols, rows, periodic = True ):\n",
    "        super().__init__( cols, rows, periodic )\n",
    "        self._nodes = [] \n",
    "        \n",
    "    def __len__(self): return self.size();\n",
    "        \n",
    "   \n",
    "    def __str__(self):\n",
    "        return \"DataRect Grid\" + str(self.cols) + \" x \" + str(self.rows)\n",
    "\n",
    "    def __repr__(self):\n",
    "        return self.__str__();\n",
    "   \n",
    "    \n",
    "    @property\n",
    "    def size(self):\n",
    "        return (self.cols,self.rows)  \n",
    "    \n",
    "    \n",
    "    @property\n",
    "    def rows(self):\n",
    "        return self._rows\n",
    "    @property\n",
    "    def cols(self):\n",
    "        return self._rows\n",
    "    \n",
    "    @rows.setter\n",
    "    def rows(self, value):\n",
    "        raise BaseException(\"Cannot resize rows in a DataRectGrid. Use resize(cols,rows) to re-allocate the grid data\")\n",
    "        \n",
    "    @cols.setter\n",
    "    def cols(self, value):\n",
    "        raise BaseException(\"Cannot resize cols in a DataRectGrid. Use resize(cols,rows) to re-allocate the grid data\")    "
   ]
  },
  {
   "cell_type": "code",
   "execution_count": null,
   "metadata": {},
   "outputs": [],
   "source": []
  },
  {
   "cell_type": "code",
   "execution_count": 112,
   "metadata": {},
   "outputs": [],
   "source": [
    "class RectGrid: \n",
    "\n",
    "    def __init__( self, cols, rows, layers = 1,  offset = None, periodic = True ):\n",
    "        self._rows   = rows\n",
    "        self._cols   = cols \n",
    "        self._layers = layers \n",
    "        self._periodic = periodic \n",
    "        self._offset   = None  \n",
    "        \n",
    "        \n",
    "    def __len__(self): \n",
    "        return self.size();\n",
    "        \n",
    "   \n",
    "    def __str__(self):\n",
    "        return \"Rect Grid\" + str(self.cols) + \" x \" + str(self.rows)\n",
    "\n",
    "    def __repr__(self):\n",
    "        return self.__str__();\n",
    "    \n",
    "    @property\n",
    "    def size(self):\n",
    "        return (self.cols,self.rows)    \n",
    "    \n",
    "    @property\n",
    "    def cols(self):\n",
    "        return self._cols\n",
    "\n",
    "    @cols.setter\n",
    "    def cols(self, value):\n",
    "        self._cols = value\n",
    "        \n",
    "    @property\n",
    "    def rows(self):\n",
    "        return self._rows\n",
    "\n",
    "    @rows.setter\n",
    "    def rows(self, value):\n",
    "        self._rows = value    \n",
    "        \n",
    "    @property\n",
    "    def layers(self):\n",
    "        return self._layers\n",
    "\n",
    "    @rows.setter\n",
    "    def layers(self, value: int):\n",
    "        self._layers = value  \n",
    "        \n",
    "        \n",
    "    @property\n",
    "    def offset(self):\n",
    "        return self._offset\n",
    "\n",
    "    @rows.setter\n",
    "    def offset(self, value:tuple):\n",
    "        self._offset = value \n",
    "        \n",
    "        \n",
    "class MindCraftCell:\n",
    "    \n",
    "    def talk(self):\n",
    "        print(\"I am a generic cell with no data attributes \")\n",
    "        \n",
    "        \n",
    "class MindCraftGrid( RectGrid ):\n",
    "    \n",
    "        \n",
    "    def __init__( self, cols, layers,  rows, offset ):\n",
    "        super().__init__(cols, rows, layers,  offset, periodic = False )\n",
    "        self._material = [] \n",
    "        \n",
    "        \n",
    "    def __str__(self):\n",
    "        s = \"Mindcraft Grid. Dims: \" + str(self.cols) + \" x \" + str(self.layers) + \" x \" + str(self.rows)   + \"\\n\"\n",
    "        s += \"Origin: \" + str(self.offset)\n",
    "        return s\n",
    "    \n",
    "    @staticmethod \n",
    "    def create_from_world():\n",
    "        return MindCraftGrid(10,10,10,(4,3,4)) \n",
    "    \n",
    "        \n",
    "    def resize( self, cols_rows: tuple ):\n",
    "        self._cols = cols_rows[0]\n",
    "        self._layers= cols_rows[1]\n",
    "        self._rows = cols_rows[2]\n",
    "            \n",
    "    \n",
    "    @property\n",
    "    def size(self):\n",
    "        return (self.cols,self.rows)    \n",
    "    \n",
    "    @property\n",
    "    def cols(self):\n",
    "        return self._cols\n",
    "    @cols.setter\n",
    "    def cols(self, value):\n",
    "        raise BaseException(\"Cannot resize rows in a DataRectGrid. Use resize(cols,rows) to re-allocate the grid data\")        \n",
    "    \n",
    "    @property\n",
    "    def rows(self):\n",
    "        return self._rows\n",
    "\n",
    "    @rows.setter\n",
    "    def rows(self, value):\n",
    "        raise BaseException(\"Cannot resize rows in a DataRectGrid. Use resize(cols,rows) to re-allocate the grid data\")\n",
    "            \n",
    "    @property\n",
    "    def layers(self):\n",
    "        return self._layers\n",
    "\n",
    "    @rows.setter\n",
    "    def layers(self, value: int):\n",
    "        raise BaseException(\"Cannot resize rows in a DataRectGrid. Use resize(cols,rows) to re-allocate the grid data\")\n",
    "   \n",
    "    \n",
    "    def set_material( self,cell: tuple, code: int, data = None):\n",
    "        pass\n",
    "    \n",
    "    def get_material( self,cell: tuple, code: int, data = None):\n",
    "        pass\n",
    "        \n",
    "    def find_water_top(self,cell: tuple):\n",
    "        pass\n",
    "    \n",
    "    def find_air_bottom(self,cell: tuple):\n",
    "        pass\n",
    "    \n",
    "    def is_generic_rock(self,cell: tuple):\n",
    "        pass\n",
    "    \n",
    "    def is_generic_bush(self,cell: tuple):\n",
    "        pass\n",
    "    \n",
    "    def is_any_of( self, cell: tuple,materials):\n",
    "        pass\n",
    "    \n",
    "    \n",
    "class WorldBuilder:\n",
    "    \n",
    "    def __init__():\n",
    "        pass\n",
    "\n",
    "#bounds, cost per tile, etc...\n",
    "class PathFinder():\n",
    "    pass \n",
    "\n",
    "\n",
    "#bounds, cost per tile, etc...\n",
    "class Roadbuilder:\n",
    "    \n",
    "    def __init( WorldBuilder ):\n",
    "        super().__init__()\n",
    "            \n",
    "    def build( start, end, grid ):\n",
    "        pass\n",
    "    \n",
    "    \n",
    "    \n",
    "    \n",
    "    \n",
    "    \n",
    "    \n",
    "    \n",
    "    \n",
    "    "
   ]
  },
  {
   "cell_type": "code",
   "execution_count": 106,
   "metadata": {},
   "outputs": [
    {
     "data": {
      "text/plain": [
       "Mindcraft Grid. Dims: 12 x 12 x 12\n",
       "Origin: 12"
      ]
     },
     "execution_count": 106,
     "metadata": {},
     "output_type": "execute_result"
    }
   ],
   "source": [
    "grid = MindCraftGrid(cols = 12,layers = 12, rows= 12, offset = (-300,-500,-199))\n",
    "grid "
   ]
  },
  {
   "cell_type": "code",
   "execution_count": 107,
   "metadata": {},
   "outputs": [
    {
     "data": {
      "text/plain": [
       "((2, 4), 2, 4)"
      ]
     },
     "execution_count": 107,
     "metadata": {},
     "output_type": "execute_result"
    }
   ],
   "source": [
    "grid.resize( (2,3,4) )\n",
    "grid.size, grid.cols, grid.rows\n"
   ]
  },
  {
   "cell_type": "code",
   "execution_count": 108,
   "metadata": {},
   "outputs": [],
   "source": [
    "grid = MindCraftGrid.create_from_world();"
   ]
  },
  {
   "cell_type": "code",
   "execution_count": 109,
   "metadata": {},
   "outputs": [
    {
     "data": {
      "text/plain": [
       "Mindcraft Grid. Dims: 10 x 10 x 10\n",
       "Origin: 10"
      ]
     },
     "execution_count": 109,
     "metadata": {},
     "output_type": "execute_result"
    }
   ],
   "source": [
    "grid"
   ]
  },
  {
   "cell_type": "code",
   "execution_count": null,
   "metadata": {},
   "outputs": [],
   "source": []
  },
  {
   "cell_type": "code",
   "execution_count": 110,
   "metadata": {},
   "outputs": [
    {
     "name": "stdout",
     "output_type": "stream",
     "text": [
      "Loc:(0, 0),Parent: none ,Depth:0, Data: None\n"
     ]
    }
   ],
   "source": [
    "node1 = RectGridDataNode(loc = (0,0), parent = None, direction = None, depth  = 0, data = None )\n",
    "print(node1)"
   ]
  },
  {
   "cell_type": "code",
   "execution_count": 111,
   "metadata": {},
   "outputs": [],
   "source": [
    "grid = RectGrid(3,3,False)\n",
    "grid.cols = 5"
   ]
  },
  {
   "cell_type": "markdown",
   "metadata": {},
   "source": [
    "##### debugging testing "
   ]
  },
  {
   "cell_type": "code",
   "execution_count": 305,
   "metadata": {},
   "outputs": [
    {
     "name": "stdout",
     "output_type": "stream",
     "text": [
      "Checking....\n",
      "Graph node id: 0 data: a\n",
      " \n",
      "\n",
      "Graph node id: 1 data: b\n",
      " \n",
      "\n",
      "Graph node id: 2 data: c\n",
      " \n",
      "\n",
      "Graph node id: 3 data: d\n",
      " \n",
      "\n",
      "Graph node id: 4 data: e\n",
      " \n",
      "\n",
      "Graph node id: 5 data: f\n",
      " \n",
      "\n",
      "Graph node id: 6 data: g\n",
      " \n",
      "\n",
      "Graph node id: 7 data: h\n",
      " \n",
      "\n",
      "resulting path: \n",
      "['a', 'c', 'd']\n",
      "node index Graph node id: 8 data: cell:0, indices:(0,0)\n",
      "\n",
      "true node  Graph node id: 8 data: cell:0, indices:(0,0)\n",
      "\n",
      "node index Graph node id: 9 data: cell:1, indices:(1,0)\n",
      "\n",
      "true node  Graph node id: 9 data: cell:1, indices:(1,0)\n",
      "\n",
      "node index Graph node id: 10 data: cell:2, indices:(2,0)\n",
      "\n",
      "true node  Graph node id: 10 data: cell:2, indices:(2,0)\n",
      "\n",
      "node index Graph node id: 11 data: cell:3, indices:(3,0)\n",
      "\n",
      "true node  Graph node id: 11 data: cell:3, indices:(3,0)\n",
      "\n",
      "node index Graph node id: 12 data: cell:4, indices:(0,1)\n",
      "\n",
      "true node  Graph node id: 12 data: cell:4, indices:(0,1)\n",
      "\n",
      "node index Graph node id: 13 data: cell:5, indices:(1,1)\n",
      "\n",
      "true node  Graph node id: 13 data: cell:5, indices:(1,1)\n",
      "\n",
      "node index Graph node id: 14 data: cell:6, indices:(2,1)\n",
      "\n",
      "true node  Graph node id: 14 data: cell:6, indices:(2,1)\n",
      "\n",
      "node index Graph node id: 15 data: cell:7, indices:(3,1)\n",
      "\n",
      "true node  Graph node id: 15 data: cell:7, indices:(3,1)\n",
      "\n"
     ]
    }
   ],
   "source": [
    "g1 = Graph()\n",
    "nodes = { letter:GraphNode(None,letter) for letter in [\"a\",\"b\",\"c\",\"d\",\"e\",\"f\",\"g\",\"h\"] }\n",
    "g1.add_nodes( [ v for k,v in nodes.items()] )     \n",
    "len( g1 )\n",
    "\n",
    "g1.add_connection(nodes['a'], nodes['b'])\n",
    "g1.add_connection(nodes['a'], nodes['c'])\n",
    "\n",
    "g1.add_connection(nodes['d'], nodes['b'])\n",
    "g1.add_connection(nodes['d'], nodes['c'])\n",
    "g1.add_connection(nodes['d'], nodes['e'])\n",
    "\n",
    "g1.add_connection(nodes['f'], nodes['c'])\n",
    "g1.add_connection(nodes['f'], nodes['g'])\n",
    "\n",
    "g1.add_connection(nodes['g'], nodes['d'])\n",
    "g1.add_connection(nodes['g'], nodes['h'])\n",
    "\n",
    "g1.add_connection(nodes['h'], nodes['e'])\n",
    "\n",
    "\n",
    "print(\"Checking....\")\n",
    "for n in g1.nodes: print( n,\"\\n\" )\n",
    "\n",
    "\n",
    "l = g1.first_search_path( nodes['a'], nodes['d'])\n",
    "\n",
    "\n",
    "print(\"resulting path: \")\n",
    "print( [item.data for item in l ] )\n",
    "\n",
    "hcols = 4 \n",
    "vrows = 3 \n",
    "grid = RectGrid(  hcols, vrows );\n",
    "\n",
    "nodes = grid.nodes \n",
    "for node_index in range(8):\n",
    "    retrieved_node = grid.get_node( node_index )\n",
    "    print('node index', retrieved_node )\n",
    "    print('true node ', nodes[ node_index] )"
   ]
  },
  {
   "cell_type": "code",
   "execution_count": 306,
   "metadata": {},
   "outputs": [
    {
     "data": {
      "text/plain": [
       "[(0, [3]), (1, [3]), (2, [3]), (3, [8])]"
      ]
     },
     "execution_count": 306,
     "metadata": {},
     "output_type": "execute_result"
    }
   ],
   "source": [
    "xx = [(0, [3]), (1, [3]), (2, [3]), (3, [8])]\n",
    "xx\n"
   ]
  },
  {
   "cell_type": "code",
   "execution_count": 307,
   "metadata": {},
   "outputs": [
    {
     "name": "stdout",
     "output_type": "stream",
     "text": [
      "0 [3]\n",
      "1 [3]\n",
      "2 [3]\n",
      "3 [8]\n"
     ]
    }
   ],
   "source": [
    "for food_index, ant_index in xx: \n",
    "    print( food_index, ant_index ) \n"
   ]
  },
  {
   "cell_type": "code",
   "execution_count": 308,
   "metadata": {},
   "outputs": [
    {
     "data": {
      "text/plain": [
       "{0: [3]}"
      ]
     },
     "execution_count": 308,
     "metadata": {},
     "output_type": "execute_result"
    }
   ],
   "source": [
    "food_ant_dict = { 0:[3],1:[],2:[]}\n",
    "food_ant_dict = { k:v for k,v in food_ant_dict.items() if len(v)>0} \n",
    "food_ant_dict"
   ]
  },
  {
   "cell_type": "code",
   "execution_count": null,
   "metadata": {},
   "outputs": [],
   "source": [
    " \n",
    " "
   ]
  },
  {
   "cell_type": "markdown",
   "metadata": {},
   "source": [
    "### Basic search case"
   ]
  },
  {
   "attachments": {
    "image.png": {
     "image/png": "[encoded data removed]"
    }
   },
   "cell_type": "markdown",
   "metadata": {},
   "source": [
    "### Example from the course,videos in unit 2.3.1\n",
    "![image.png](attachment:image.png)\n"
   ]
  },
  {
   "cell_type": "markdown",
   "metadata": {},
   "source": [
    "##### Lets construct a graph of the above grid states and transitions"
   ]
  },
  {
   "cell_type": "code",
   "execution_count": 309,
   "metadata": {},
   "outputs": [],
   "source": [
    "g1 = Graph()\n",
    "\n",
    "nodes = { letter:GraphNode(None,letter) for letter in [\"a\",\"b\",\"c\",\"d\",\"e\",\"f\",\"g\",\"h\"] }\n",
    "g1.add_nodes( [ v for k,v in nodes.items()] )     \n",
    "len( g1 )\n",
    "\n",
    "g1.add_connection(nodes['a'], nodes['b'])\n",
    "g1.add_connection(nodes['a'], nodes['c'])\n",
    "\n",
    "g1.add_connection(nodes['d'], nodes['b'])\n",
    "g1.add_connection(nodes['d'], nodes['c'])\n",
    "g1.add_connection(nodes['d'], nodes['e'])\n",
    "\n",
    "g1.add_connection(nodes['f'], nodes['c'])\n",
    "g1.add_connection(nodes['f'], nodes['g'])\n",
    "\n",
    "g1.add_connection(nodes['g'], nodes['d'])\n",
    "g1.add_connection(nodes['g'], nodes['h'])\n",
    "\n",
    "g1.add_connection(nodes['h'], nodes['e'])\n",
    "\n",
    "#print(\"Checking....\")\n",
    "#for n in g1.nodes: print( n,\"\\n\" )"
   ]
  },
  {
   "cell_type": "markdown",
   "metadata": {},
   "source": [
    "## Uniformed search width max-depth option \n",
    "Uninformed Search is a term describing the class \n",
    "of search algorithm that only use the information \n",
    "provided in the problem description, namely the start \n",
    "and goal states, the available actions, transitions \n",
    "function, states, and the path cost. \n",
    "\n",
    "<b> They do not use \n",
    "any heuristics to take the best guess on what nodes \n",
    "might be good to explore next.</b>"
   ]
  },
  {
   "cell_type": "markdown",
   "metadata": {},
   "source": [
    "### Depth-first search\n"
   ]
  },
  {
   "cell_type": "code",
   "execution_count": 311,
   "metadata": {},
   "outputs": [
    {
     "name": "stdout",
     "output_type": "stream",
     "text": [
      "Path from a to d is: a->c->d\n",
      "Path from e to f is: e->h->g->f\n",
      "Path from h to a is: h->g->d->c->a\n",
      "Path from h to b is: h->g->d->b\n"
     ]
    }
   ],
   "source": [
    "path = g1.depth_first_search_path( nodes['a'], nodes['d'])\n",
    "trace = \"->\".join([ item.data for item in path])\n",
    "print(f\"Path from {nodes['a'].data} to {nodes['d'].data} is: {trace}\" )\n",
    "\n",
    "path = g1.depth_first_search_path( nodes['e'], nodes['f'])\n",
    "trace = \"->\".join([ item.data for item in path])\n",
    "print(f\"Path from {nodes['e'].data} to {nodes['f'].data} is: {trace}\" )\n",
    "\n",
    "path = g1.depth_first_search_path( nodes['h'], nodes['a'])\n",
    "trace = \"->\".join([ item.data for item in path])\n",
    "print(f\"Path from {nodes['h'].data} to {nodes['a'].data} is: {trace}\" )\n",
    "\n",
    "path = g1.depth_first_search_path( nodes['h'], nodes['b'])\n",
    "trace = \"->\".join([ item.data for item in path])\n",
    "print(f\"Path from {nodes['h'].data} to {nodes['b'].data} is: {trace}\" )\n"
   ]
  },
  {
   "cell_type": "code",
   "execution_count": 312,
   "metadata": {},
   "outputs": [
    {
     "name": "stdout",
     "output_type": "stream",
     "text": [
      "Path from a to d is: a->b->d\n",
      "Path from e to f is: e->d->g->f\n",
      "Path from h to a is: h->e->d->b->a\n",
      "Path from h to b is: h->e->d->b\n"
     ]
    }
   ],
   "source": [
    "path = g1.first_search_path( nodes['a'], nodes['d'])\n",
    "trace = \"->\".join([ item.data for item in path])\n",
    "print(f\"Path from {nodes['a'].data} to {nodes['d'].data} is: {trace}\" )\n",
    "\n",
    "path = g1.first_search_path( nodes['e'], nodes['f'])\n",
    "trace = \"->\".join([ item.data for item in path])\n",
    "print(f\"Path from {nodes['e'].data} to {nodes['f'].data} is: {trace}\" )\n",
    "\n",
    "path = g1.first_search_path( nodes['h'], nodes['a'])\n",
    "trace = \"->\".join([ item.data for item in path])\n",
    "print(f\"Path from {nodes['h'].data} to {nodes['a'].data} is: {trace}\" )\n",
    "\n",
    "path = g1.first_search_path( nodes['h'], nodes['b'])\n",
    "trace = \"->\".join([ item.data for item in path])\n",
    "print(f\"Path from {nodes['h'].data} to {nodes['b'].data} is: {trace}\" )\n"
   ]
  },
  {
   "cell_type": "markdown",
   "metadata": {},
   "source": [
    "### Rectangular (single-link) graph for the ants problem and search algorithms "
   ]
  },
  {
   "cell_type": "code",
   "execution_count": 248,
   "metadata": {},
   "outputs": [
    {
     "name": "stdout",
     "output_type": "stream",
     "text": [
      "Path from cell:0, indices:(0,0) to cell:11, indices:(3,2) is: cell:0, indices:(0,0)->cell:8, indices:(0,2)->cell:11, indices:(3,2)\n",
      "Path from cell:0, indices:(0,0) to cell:11, indices:(3,2) is: cell:0, indices:(0,0)->cell:4, indices:(0,1)->cell:5, indices:(1,1)->cell:6, indices:(2,1)\n"
     ]
    }
   ],
   "source": [
    "\n",
    "#by default it uses periodic boundary conditions \n",
    "hcols = 4 \n",
    "vrows = 3 \n",
    "grid  = RectGrid(  hcols, vrows );\n",
    "nodes = grid.node_list; \n",
    "\n",
    "max_depth_search = 4\n",
    "\n",
    "path = grid.first_search_path( nodes[0], nodes[11], max_depth_search)\n",
    "trace = \"->\".join([ item.data for item in path])\n",
    "print(f\"Path from {nodes[0].data} to {nodes[11].data} is: {trace}\" )\n",
    "\n",
    "path = grid.first_search_path( nodes[0], nodes[6], max_depth_search)\n",
    "trace = \"->\".join([ item.data for item in path])\n",
    "print(f\"Path from {nodes[0].data} to {nodes[11].data} is: {trace}\" )\n"
   ]
  },
  {
   "cell_type": "code",
   "execution_count": 255,
   "metadata": {},
   "outputs": [
    {
     "data": {
      "text/plain": [
       "2"
      ]
     },
     "execution_count": 255,
     "metadata": {},
     "output_type": "execute_result"
    }
   ],
   "source": [
    "food = [ (1,2), (4,5) ]\n",
    "food[0][1]\n",
    "    "
   ]
  },
  {
   "cell_type": "code",
   "execution_count": 268,
   "metadata": {},
   "outputs": [
    {
     "data": {
      "text/plain": [
       "{0: [3], 1: [3], 2: [3], 3: [8]}"
      ]
     },
     "execution_count": 268,
     "metadata": {},
     "output_type": "execute_result"
    }
   ],
   "source": [
    "d = { 0: [3], 1: [3], 2: [3], 3: [8]}\n",
    "d"
   ]
  },
  {
   "cell_type": "code",
   "execution_count": 269,
   "metadata": {},
   "outputs": [
    {
     "data": {
      "text/plain": [
       "{0: [3], 1: [3], 2: [3], 3: [8]}"
      ]
     },
     "execution_count": 269,
     "metadata": {},
     "output_type": "execute_result"
    }
   ],
   "source": [
    "#sort based on its distance to the closest ant \n",
    "dict( sorted(d.items(), key=lambda pair: min(pair[1]) ))"
   ]
  },
  {
   "cell_type": "code",
   "execution_count": 284,
   "metadata": {},
   "outputs": [
    {
     "data": {
      "text/plain": [
       "{'s': 11.1, 'w': 220.5, 'n': 2334.1}"
      ]
     },
     "execution_count": 284,
     "metadata": {},
     "output_type": "execute_result"
    }
   ],
   "source": [
    "x = { 'n':2334.1, 's':11.1, 'w': 220.5 }\n",
    "\n",
    "w = dict( sorted( x.items(), key = lambda x: x[1]) ) \n",
    "w"
   ]
  },
  {
   "cell_type": "code",
   "execution_count": 286,
   "metadata": {},
   "outputs": [
    {
     "data": {
      "text/plain": [
       "dict_keys(['s', 'w', 'n'])"
      ]
     },
     "execution_count": 286,
     "metadata": {},
     "output_type": "execute_result"
    }
   ],
   "source": [
    "w.keys()"
   ]
  },
  {
   "cell_type": "code",
   "execution_count": 289,
   "metadata": {},
   "outputs": [
    {
     "data": {
      "text/plain": [
       "[1, 1, 1, 0]"
      ]
     },
     "execution_count": 289,
     "metadata": {},
     "output_type": "execute_result"
    }
   ],
   "source": [
    "distances = [3,3,3,0]\n",
    "aux = max(distances)*0.99\n",
    "distances = [ int( d/aux ) for d in distances ] \n",
    "distances \n"
   ]
  },
  {
   "cell_type": "code",
   "execution_count": 290,
   "metadata": {},
   "outputs": [
    {
     "name": "stdout",
     "output_type": "stream",
     "text": [
      "dfgd\n",
      "dfgd\n",
      "dfgd\n",
      "dfgd\n"
     ]
    }
   ],
   "source": [
    "for i in range(len(distances)): print(\"dfgd\")"
   ]
  },
  {
   "cell_type": "code",
   "execution_count": 349,
   "metadata": {},
   "outputs": [
    {
     "data": {
      "text/plain": [
       "[1, 2, 3, 4]"
      ]
     },
     "execution_count": 349,
     "metadata": {},
     "output_type": "execute_result"
    }
   ],
   "source": [
    "l = [1,2,3,4]\n",
    "l"
   ]
  },
  {
   "cell_type": "code",
   "execution_count": 350,
   "metadata": {},
   "outputs": [
    {
     "data": {
      "text/plain": [
       "[4, 3, 2, 1]"
      ]
     },
     "execution_count": 350,
     "metadata": {},
     "output_type": "execute_result"
    }
   ],
   "source": [
    "l.reverse()\n",
    "l"
   ]
  },
  {
   "cell_type": "code",
   "execution_count": null,
   "metadata": {},
   "outputs": [],
   "source": []
  }
 ],
 "metadata": {
  "kernelspec": {
   "display_name": "Python 3",
   "language": "python",
   "name": "python3"
  },
  "language_info": {
   "codemirror_mode": {
    "name": "ipython",
    "version": 3
   },
   "file_extension": ".py",
   "mimetype": "text/x-python",
   "name": "python",
   "nbconvert_exporter": "python",
   "pygments_lexer": "ipython3",
   "version": "3.7.4"
  }
 },
 "nbformat": 4,
 "nbformat_minor": 4
}
