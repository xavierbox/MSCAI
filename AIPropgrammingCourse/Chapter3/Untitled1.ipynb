{
 "cells": [
  {
   "attachments": {},
   "cell_type": "markdown",
   "metadata": {},
   "source": [
    "## K-nearest neighbours algorithm\n",
    "\n",
    "### Description\n",
    "\n",
    "The attached script implements a K-nearest neighbours algorithm. \n",
    "A single function is provided, its signature is: \n",
    "\n",
    "knnClassify <- function( labelledData, k, unlabelledData)\n",
    "\n",
    "The first parameter (labelledData) must be a matrix or data.frame. The \n",
    "\n",
    "second\n",
    "\n",
    "\n",
    "\n",
    "### Usage \n",
    "\n",
    "### Attached examples \n",
    "\n"
   ]
  },
  {
   "cell_type": "code",
   "execution_count": null,
   "metadata": {},
   "outputs": [],
   "source": []
  }
 ],
 "metadata": {
  "kernelspec": {
   "display_name": "Python 3",
   "language": "python",
   "name": "python3"
  },
  "language_info": {
   "codemirror_mode": {
    "name": "ipython",
    "version": 3
   },
   "file_extension": ".py",
   "mimetype": "text/x-python",
   "name": "python",
   "nbconvert_exporter": "python",
   "pygments_lexer": "ipython3",
   "version": "3.7.4"
  }
 },
 "nbformat": 4,
 "nbformat_minor": 4
}
