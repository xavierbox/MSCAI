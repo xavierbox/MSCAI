{
 "cells": [
  {
   "cell_type": "code",
   "execution_count": 3,
   "metadata": {},
   "outputs": [],
   "source": [
    "class GraphSearch:\n",
    "\n",
    "    @staticmethod\n",
    "    def search_path(start_tile, end_tile , is_reachable, real_cost_function=None, estimated_cost_function=None, max_depth=None ):\n",
    "        is_reachable(1,2,111,222)\n",
    "        return []  \n",
    "\n",
    "\n",
    "    def __init__(self ):\n",
    "        pass\n",
    "    \n",
    "    "
   ]
  },
  {
   "cell_type": "code",
   "execution_count": 4,
   "metadata": {},
   "outputs": [
    {
     "name": "stdout",
     "output_type": "stream",
     "text": [
      "1 2 111 222\n"
     ]
    },
    {
     "data": {
      "text/plain": [
       "[]"
      ]
     },
     "execution_count": 4,
     "metadata": {},
     "output_type": "execute_result"
    }
   ],
   "source": [
    "\n",
    "def is_reachable( from_tile, to_tile, path_start, path_end ): \n",
    "    print(from_tile,to_tile,path_start, path_end)\n",
    "    \n",
    "\n",
    "GraphSearch.search_path(start_tile=0, end_tile=100 , is_reachable = is_reachable, real_cost_function=None, estimated_cost_function=None, max_depth=None )\n",
    " "
   ]
  },
  {
   "cell_type": "code",
   "execution_count": 6,
   "metadata": {},
   "outputs": [],
   "source": [
    "class Tile(object):\n",
    "\n",
    "\tdef __init__(self, x, y, z, level, **kwds):\n",
    "\t\tsuper(Tile, self).__init__(**kwds)\n",
    "\t\tself._x = x\n",
    "\t\tself._y = y\n",
    "\t\tself._z = z\n",
    "\t\tself._level = level \n",
    "\n",
    "\t#for debugging \n",
    "\tdef __str__( self ): return \"(\"+str(self.x)+\",\"+str(self.y)+\",\"+str(self.z)+\"). ID\"+str(self.material)\n",
    "\n",
    "\tdef __repr__(self): return self.__str__();\n",
    "\n",
    "\n",
    "\tdef below(self): return Tile(self.x,self.y -1, self.z, self._level);\n",
    "\tdef above(self): return Tile(self.x,self.y +1, self.z, self._level);\n",
    "\n",
    "\tdef east(self): return Tile(self.x+1,self.y , self.z, self._level);\n",
    "\tdef west(self): return Tile(self.x-1,self.y , self.z, self._level);\n",
    "\n",
    "\tdef north(self): return Tile(self.x,self.y , self.z-1, self._level);\n",
    "\tdef south(self): return Tile(self.x,self.y , self.z+1, self._level);\n",
    "\n",
    "\tdef north_east(self): return self.north().east();\n",
    "\tdef north_west(self): return self.north().west();"
   ]
  },
  {
   "cell_type": "code",
   "execution_count": 8,
   "metadata": {},
   "outputs": [
    {
     "ename": "SyntaxError",
     "evalue": "invalid syntax (<ipython-input-8-c73f3b8aaf5f>, line 9)",
     "output_type": "error",
     "traceback": [
      "\u001b[1;36m  File \u001b[1;32m\"<ipython-input-8-c73f3b8aaf5f>\"\u001b[1;36m, line \u001b[1;32m9\u001b[0m\n\u001b[1;33m    def __ne__(self,b):return self._value!=<b._value\u001b[0m\n\u001b[1;37m                                           ^\u001b[0m\n\u001b[1;31mSyntaxError\u001b[0m\u001b[1;31m:\u001b[0m invalid syntax\n"
     ]
    }
   ],
   "source": [
    "class Data:\n",
    "    def __init(self, value):\n",
    "        self._value = value\n",
    "        \n",
    "     \n",
    "    def __lt__(self,b):return self._value<b._value\n",
    "    def __le__(self,b):return self._value<=b._value\n",
    "    def __eq__(self,b):return self._value==b._value\n",
    "    def __ne__(self,b):return self._value != b._value\n",
    "    def __ge__(self,b):return self._value>=b._value\n",
    "    def __gt__(self,b):return self._value>b._value"
   ]
  },
  {
   "cell_type": "code",
   "execution_count": null,
   "metadata": {},
   "outputs": [],
   "source": []
  }
 ],
 "metadata": {
  "kernelspec": {
   "display_name": "Python 3",
   "language": "python",
   "name": "python3"
  },
  "language_info": {
   "codemirror_mode": {
    "name": "ipython",
    "version": 3
   },
   "file_extension": ".py",
   "mimetype": "text/x-python",
   "name": "python",
   "nbconvert_exporter": "python",
   "pygments_lexer": "ipython3",
   "version": "3.7.4"
  }
 },
 "nbformat": 4,
 "nbformat_minor": 4
}
