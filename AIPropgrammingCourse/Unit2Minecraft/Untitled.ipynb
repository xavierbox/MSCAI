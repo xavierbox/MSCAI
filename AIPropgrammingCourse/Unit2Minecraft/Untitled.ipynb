{
 "cells": [
  {
   "cell_type": "code",
   "execution_count": 3,
   "metadata": {},
   "outputs": [],
   "source": [
    "import numpy as np"
   ]
  },
  {
   "cell_type": "code",
   "execution_count": 4,
   "metadata": {},
   "outputs": [
    {
     "data": {
      "text/plain": [
       "'[1 2 3]'"
      ]
     },
     "execution_count": 4,
     "metadata": {},
     "output_type": "execute_result"
    }
   ],
   "source": [
    "a = np.array([1,2,3])\n",
    "str(a)"
   ]
  },
  {
   "cell_type": "code",
   "execution_count": 3,
   "metadata": {},
   "outputs": [],
   "source": [
    "class GraphSearch:\n",
    "\n",
    "    @staticmethod\n",
    "    def search_path(start_tile, end_tile , is_reachable, real_cost_function=None, estimated_cost_function=None, max_depth=None ):\n",
    "        is_reachable(1,2,111,222)\n",
    "        return []  \n",
    "\n",
    "\n",
    "    def __init__(self ):\n",
    "        pass\n",
    "    \n",
    "    "
   ]
  },
  {
   "cell_type": "code",
   "execution_count": 4,
   "metadata": {},
   "outputs": [
    {
     "name": "stdout",
     "output_type": "stream",
     "text": [
      "1 2 111 222\n"
     ]
    },
    {
     "data": {
      "text/plain": [
       "[]"
      ]
     },
     "execution_count": 4,
     "metadata": {},
     "output_type": "execute_result"
    }
   ],
   "source": [
    "\n",
    "def is_reachable( from_tile, to_tile, path_start, path_end ): \n",
    "    print(from_tile,to_tile,path_start, path_end)\n",
    "    \n",
    "\n",
    "GraphSearch.search_path(start_tile=0, end_tile=100 , is_reachable = is_reachable, real_cost_function=None, estimated_cost_function=None, max_depth=None )\n",
    " "
   ]
  },
  {
   "cell_type": "code",
   "execution_count": 6,
   "metadata": {},
   "outputs": [],
   "source": [
    "class Tile(object):\n",
    "\n",
    "\tdef __init__(self, x, y, z, level, **kwds):\n",
    "\t\tsuper(Tile, self).__init__(**kwds)\n",
    "\t\tself._x = x\n",
    "\t\tself._y = y\n",
    "\t\tself._z = z\n",
    "\t\tself._level = level \n",
    "\n",
    "\t#for debugging \n",
    "\tdef __str__( self ): return \"(\"+str(self.x)+\",\"+str(self.y)+\",\"+str(self.z)+\"). ID\"+str(self.material)\n",
    "\n",
    "\tdef __repr__(self): return self.__str__();\n",
    "\n",
    "\n",
    "\tdef below(self): return Tile(self.x,self.y -1, self.z, self._level);\n",
    "\tdef above(self): return Tile(self.x,self.y +1, self.z, self._level);\n",
    "\n",
    "\tdef east(self): return Tile(self.x+1,self.y , self.z, self._level);\n",
    "\tdef west(self): return Tile(self.x-1,self.y , self.z, self._level);\n",
    "\n",
    "\tdef north(self): return Tile(self.x,self.y , self.z-1, self._level);\n",
    "\tdef south(self): return Tile(self.x,self.y , self.z+1, self._level);\n",
    "\n",
    "\tdef north_east(self): return self.north().east();\n",
    "\tdef north_west(self): return self.north().west();"
   ]
  },
  {
   "cell_type": "code",
   "execution_count": 15,
   "metadata": {},
   "outputs": [],
   "source": [
    "class Data:\n",
    "    def __init__(self, value):\n",
    "        self._value = value\n",
    "        \n",
    "     \n",
    "    def __lt__(self,b):return self._value<b._value\n",
    "    def __le__(self,b):return self._value<=b._value\n",
    "    def __eq__(self,b):return self._value==b._value\n",
    "    def __ne__(self,b):return self._value != b._value\n",
    "    def __ge__(self,b):return self._value>=b._value\n",
    "    def __gt__(self,b):return self._value>b._value"
   ]
  },
  {
   "cell_type": "code",
   "execution_count": 20,
   "metadata": {},
   "outputs": [
    {
     "data": {
      "text/plain": [
       "(True, False, False, True, True, False)"
      ]
     },
     "execution_count": 20,
     "metadata": {},
     "output_type": "execute_result"
    }
   ],
   "source": [
    "data1 = Data(100)\n",
    "data2 = Data(200)\n",
    "data3 = Data(200)\n",
    "\n",
    "data1!=data2,data1==data2, data1>data2,data1<data2,data2<=data2,data2<data2\n"
   ]
  },
  {
   "cell_type": "code",
   "execution_count": null,
   "metadata": {},
   "outputs": [],
   "source": []
  }
 ],
 "metadata": {
  "kernelspec": {
   "display_name": "Python 3",
   "language": "python",
   "name": "python3"
  },
  "language_info": {
   "codemirror_mode": {
    "name": "ipython",
    "version": 3
   },
   "file_extension": ".py",
   "mimetype": "text/x-python",
   "name": "python",
   "nbconvert_exporter": "python",
   "pygments_lexer": "ipython3",
   "version": "3.7.4"
  }
 },
 "nbformat": 4,
 "nbformat_minor": 4
}
